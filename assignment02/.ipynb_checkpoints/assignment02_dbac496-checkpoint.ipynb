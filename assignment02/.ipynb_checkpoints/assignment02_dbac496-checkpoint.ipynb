{
 "cells": [
  {
   "cell_type": "markdown",
   "metadata": {},
   "source": [
    "# CSCI262 Assignment 02\n",
    "\n",
    "**Due:** 2018.09.24 **| Author:** Dinh Che **| Student ID:** 5721970 **| Email:** dbac496@uowmail.edu.au  \n",
    "\n",
    "### Question 1.\n",
    "\n",
    "* Expected number of hashes:\n",
    "    * $h =\\sim 2^{k-1}$\n",
    "* Cost of completing $P$:\n",
    "    * $\\sim m \\cdot 2^{k-1}$"
   ]
  },
  {
   "cell_type": "code",
   "execution_count": null,
   "metadata": {
    "scrolled": false
   },
   "outputs": [],
   "source": [
    "%matplotlib inline\n",
    "import numpy as np\n",
    "import matplotlib.pyplot as plt\n",
    "import pandas as pd\n",
    "import scipy.stats as stats\n",
    "\n",
    "def cost(m, k):\n",
    "    cases = m * np.power(2, k - 1)\n",
    "    return cases\n",
    "\n",
    "case_2 = [ \n",
    "            ('# Hashes', [x for x in range(1,17)]),\n",
    "            ('Case 2', [0,0,0,1,4,10,20,31,40,44,40,31,20,10,4,1])\n",
    "         ]\n",
    "\n",
    "df_2 = pd.DataFrame.from_dict(dict(case_2))\n",
    "\n",
    "data = [\n",
    "        ('Case 1', [1] * 16),\n",
    "        ('Case 2', [0,0,0,1,4,10,20,31,40,44,40,31,20,10,4,1]),\n",
    "        ('Case 3', [cost(x, 6) for x in range(1,17)])\n",
    "       ]\n",
    "\n",
    "df_1 = pd.DataFrame.from_dict(dict(data))\n",
    "\n",
    "print(df_2.T)\n",
    "\n",
    "# plt.title('Distribution of k Sub-puzzles')\n",
    "\n",
    "# df_1.plot.hist(title='Distribution of k sub-puzzles', bins=16, color=('red', 'blue', 'orange', 'green'), edgecolor='black')\n",
    "\n",
    "# case = df_1['Case 2']\n",
    "# density = stats.gaussian_kde(case)\n",
    "# n, x, _ = plt.hist(case, color='lightgrey', normed=True, bins=16)  \n",
    "# plt.plot(x, density(x))\n",
    "\n",
    "plt.figure()\n",
    "df_2.plot( kind='scatter', title='Hashes vs. Cases', x='# Hashes', y='Case 2')\n",
    "\n",
    "plt.figure()\n",
    "df_2.plot( kind='line', title='Hashes vs. Cases', x='# Hashes', y='Case 2')\n",
    "\n",
    "plt.figure()\n",
    "df_2['Case 2'].plot( kind='box', title='Case 2 Distribution')\n",
    "plt.figure()\n",
    "df_2['Case 2'].hist(bins=16)\n",
    "\n",
    "plt.show()\n",
    "print(df_2['Case 2'].describe())\n",
    "print('median: ' + str(df_2['Case 2'].median()))\n",
    "\n",
    "# plt.plot(df_1['Case 3'], df_1['# Hashes'] )"
   ]
  },
  {
   "cell_type": "markdown",
   "metadata": {},
   "source": [
    "### Question 2.\n",
    "\n",
    "* Original\n",
    "\n",
    "```pseudocode\n",
    "permit = CheckAccess()\n",
    "\n",
    "IF (permit == Access_Denied)\n",
    "    Print \"Access Denied\"\n",
    "ELSE \n",
    "    Print \"Access Granted\"\n",
    "    Run Function()\n",
    "```\n",
    "\n",
    "* \"Default deny, not default allow!\n",
    "\n",
    "```pseudocode\n",
    "permit = CheckAccess()\n",
    "IF (permit == Access_Granted)\n",
    "    Print \"Access Granted\"\n",
    "    Run Function()\n",
    "ELSE\n",
    "    Print \"Access Denied\"\n",
    "```"
   ]
  },
  {
   "cell_type": "markdown",
   "metadata": {},
   "source": [
    "### Question 3.   \n",
    "<br>\n",
    "\n",
    "<font color=blue>\n",
    "    Consider that the <em>incidence</em> of viral attachments in email messages is <b>1 in 800</b>. Your malware checker will correctly identify a message as <em>viral</em> <b>95%</b> of the time. Your malware checker will correctly identify a message <em>non-viral</em> <b>95%</b> of the time. Your malware checker has just flagged a message as being <em>malware</em>. What is the probability that the message is <b>actually okay</b>? Justify your answer using <b>Bayes theorem</b>\n",
    "</font>\n",
    "\n",
    "$$\n",
    "\\begin{align*}\n",
    "& P\n",
    "\\end{align*}\n",
    "$$"
   ]
  },
  {
   "cell_type": "markdown",
   "metadata": {},
   "source": [
    "### Question 4.  \n",
    "<br>\n",
    "\n",
    "<font color=blue>\n",
    "    Describe, in your own words, a <b>specific instance of an insider placing malware within a system.</b> You should describe the <b>type of malware placed</b>, <b>the expected likely impact</b>, and <b>some details regarding the outcome</b>. This is not meaning a hypothetical scenario you have made up, find an actual real world example.\n",
    "</font>\n"
   ]
  },
  {
   "cell_type": "markdown",
   "metadata": {},
   "source": [
    "### Question 5.  \n",
    "<br>\n",
    "\n",
    "<font color=blue>\n",
    "    In the context of <b>phishing</b>, list <b>8 points</b> that can be used in <b>checking the legitimacy of an email</b>. <b>Justify</b> why each is appropriate as an <b>indicator</b>. Note that some points could relate to characteristics of legitimate messages, and others could be indicators of a phishing message.\n",
    "</font>"
   ]
  },
  {
   "cell_type": "markdown",
   "metadata": {},
   "source": [
    "### Question 6.  \n"
   ]
  },
  {
   "cell_type": "code",
   "execution_count": 39,
   "metadata": {},
   "outputs": [
    {
     "name": "stdout",
     "output_type": "stream",
     "text": [
      "{0: <State.X_INFECTED: 1>, 1: <State.UNINFECTED: 0>, 2: <State.UNINFECTED: 0>, 3: <State.UNINFECTED: 0>, 4: <State.UNINFECTED: 0>, 5: <State.UNINFECTED: 0>, 6: <State.UNINFECTED: 0>, 7: <State.UNINFECTED: 0>, 8: <State.UNINFECTED: 0>, 9: <State.UNINFECTED: 0>}\n"
     ]
    }
   ],
   "source": [
    "import random\n",
    "import numpy as np\n",
    "from enum import Enum\n",
    "\n",
    "class State(Enum):\n",
    "    UNINFECTED = 0\n",
    "    X_INFECTED = 1\n",
    "    W_INFECTED = 2\n",
    "\n",
    "time = 0\n",
    "\n",
    "n_C = 0  # number of computers\n",
    "n_X = 0  # number of X infected computers\n",
    "n_W = 0  # number of W infected computers\n",
    "\n",
    "\n",
    "# Get the number of computers\n",
    "n_C = 10\n",
    "\n",
    "computers = { x : State.UNINFECTED for x in range(n_C) }\n",
    "\n",
    "random.seed(2)\n",
    "sample = random.sample(list(computers.keys()), 1)  # set up a random sample with no duplicates\n",
    "choice = random.choice(sample)  # select one to be infected at the beginning\n",
    "computers[choice] = State.X_INFECTED\n",
    "\n",
    "# every hour the worm X spreads from each infected computer \n",
    "# to one previously uninfected computer.\n",
    "\n",
    "for i in np.arange(0, 24.5, 0.5):\n",
    "    if i is 6.5:  # a counter worm, W has been developed and is deployed on one infected computer\n",
    "        pass\n",
    "        \n",
    "\n",
    "print(computers)"
   ]
  },
  {
   "cell_type": "markdown",
   "metadata": {},
   "source": [
    "### Question 7. \n",
    "<br>\n",
    "\n",
    "<font color=blue>\n",
    "    Briefly describe, in your own words, each of the following. Be sure to specify the domain and nature of each. \n",
    "</font><br>\n",
    "<font color=blue>&nbsp;&nbsp;&nbsp;&nbsp;a) <b>an XML bomb.</b><br></font>\n",
    "<font color=blue>&nbsp;&nbsp;&nbsp;&nbsp;b) <b>BlueSmack.</b><br></font>\n",
    "<font color=blue>&nbsp;&nbsp;&nbsp;&nbsp;c) <b>Mydoom.</b><br></font>\n",
    "<font color=blue>&nbsp;&nbsp;&nbsp;&nbsp;d) <b>Torpig.</b><br></font>"
   ]
  },
  {
   "cell_type": "markdown",
   "metadata": {},
   "source": [
    "### Question 8.  \n",
    "<br>\n",
    "\n",
    "<font color=blue>\n",
    "    Explain what BHO's are and how they have been used maliciously.\n",
    "</font>\n"
   ]
  },
  {
   "cell_type": "code",
   "execution_count": null,
   "metadata": {},
   "outputs": [],
   "source": []
  }
 ],
 "metadata": {
  "kernelspec": {
   "display_name": "Python 3",
   "language": "python",
   "name": "python3"
  },
  "language_info": {
   "codemirror_mode": {
    "name": "ipython",
    "version": 3
   },
   "file_extension": ".py",
   "mimetype": "text/x-python",
   "name": "python",
   "nbconvert_exporter": "python",
   "pygments_lexer": "ipython3",
   "version": "3.6.6"
  }
 },
 "nbformat": 4,
 "nbformat_minor": 2
}
